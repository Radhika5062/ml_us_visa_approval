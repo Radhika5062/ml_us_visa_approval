{
 "cells": [
  {
   "cell_type": "code",
   "execution_count": null,
   "metadata": {},
   "outputs": [],
   "source": [
    "# Step 1: Create template.py\n",
    "# Step 2: Add requirements.txt\n",
    "# Step 3: Create setup.py file\n",
    "# Step 4: Create logging module\n",
    "# Step 5: create custom exception module"
   ]
  },
  {
   "cell_type": "code",
   "execution_count": null,
   "metadata": {},
   "outputs": [],
   "source": []
  }
 ],
 "metadata": {
  "language_info": {
   "name": "python"
  }
 },
 "nbformat": 4,
 "nbformat_minor": 2
}
