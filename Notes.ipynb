{
 "cells": [
  {
   "cell_type": "code",
   "execution_count": null,
   "metadata": {},
   "outputs": [],
   "source": [
    "# Step 1: Create template.py\n",
    "# Step 2: Add requirements.txt\n",
    "# Step 3: Create setup.py file\n",
    "# Step 4: Create logging module\n",
    "# Step 5: create custom exception module\n",
    "# Step 6: Perform EDA\n",
    "# Step 7: Send the data from CSV file to Mongodb using Python code\n",
    "# Step 8: Added the flowcharts folder to show the flow of code"
   ]
  },
  {
   "cell_type": "code",
   "execution_count": null,
   "metadata": {},
   "outputs": [],
   "source": [
    "# Step 9: Project Workflow for data ingestion\n",
    "# a) constants\n",
    "# b) entity\n",
    "# c) configuration>mongo_db_connection.py\n",
    "# d) Create a folder called data_access in us_visa. Create init file in it. Create usvisa_data.py. This file will help convert data\n",
    "# coming from database into a dataframe.\n",
    "# e) Components\n",
    "# f) Pipeline\n"
   ]
  },
  {
   "cell_type": "code",
   "execution_count": null,
   "metadata": {},
   "outputs": [],
   "source": [
    "# Step 10: Project workflow for data validation\n",
    "# a) constants\n",
    "# b) schema.yaml file\n",
    "# c) entity\n",
    "# d) Component\n",
    "# e) Pipeline"
   ]
  },
  {
   "cell_type": "code",
   "execution_count": null,
   "metadata": {},
   "outputs": [],
   "source": []
  },
  {
   "cell_type": "code",
   "execution_count": 7,
   "metadata": {},
   "outputs": [],
   "source": []
  },
  {
   "cell_type": "code",
   "execution_count": null,
   "metadata": {},
   "outputs": [],
   "source": []
  },
  {
   "cell_type": "code",
   "execution_count": null,
   "metadata": {},
   "outputs": [],
   "source": []
  }
 ],
 "metadata": {
  "kernelspec": {
   "display_name": "Python 3",
   "language": "python",
   "name": "python3"
  },
  "language_info": {
   "codemirror_mode": {
    "name": "ipython",
    "version": 3
   },
   "file_extension": ".py",
   "mimetype": "text/x-python",
   "name": "python",
   "nbconvert_exporter": "python",
   "pygments_lexer": "ipython3",
   "version": "3.8.0"
  }
 },
 "nbformat": 4,
 "nbformat_minor": 2
}
