{
 "cells": [
  {
   "cell_type": "code",
   "execution_count": null,
   "metadata": {},
   "outputs": [],
   "source": [
    "# Step 1: Create template.py\n",
    "# Step 2: Add requirements.txt\n",
    "# Step 3: Create setup.py file\n",
    "# Step 4: Create logging module\n",
    "# Step 5: create custom exception module"
   ]
  }
 ],
 "metadata": {
  "language_info": {
   "name": "python"
  }
 },
 "nbformat": 4,
 "nbformat_minor": 2
}
